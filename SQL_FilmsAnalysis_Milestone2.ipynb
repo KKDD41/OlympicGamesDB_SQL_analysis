{
 "cells": [
  {
   "cell_type": "markdown",
   "id": "010fbf00",
   "metadata": {},
   "source": [
    "# Films' and actors' rating analysis"
   ]
  },
  {
   "cell_type": "code",
   "execution_count": 46,
   "id": "9996f8fa",
   "metadata": {},
   "outputs": [],
   "source": [
    "import pandas as pd\n",
    "from pandasql import sqldf\n",
    "from matplotlib import pyplot as plt\n",
    "\n",
    "\n",
    "pysqldf = lambda q: sqldf(q, globals())"
   ]
  },
  {
   "cell_type": "markdown",
   "id": "c646ecfb",
   "metadata": {},
   "source": [
    "## Database overview\n",
    "\n",
    "There are provided types of columns, examples of rows and general statistics for understanding data we are working with."
   ]
  },
  {
   "cell_type": "code",
   "execution_count": 9,
   "id": "c99b5cc3",
   "metadata": {},
   "outputs": [
    {
     "name": "stdout",
     "output_type": "stream",
     "text": [
      "<class 'pandas.core.frame.DataFrame'>\n",
      "RangeIndex: 1659 entries, 0 to 1658\n",
      "Data columns (total 9 columns):\n",
      " #   Column      Non-Null Count  Dtype \n",
      "---  ------      --------------  ----- \n",
      " 0   Year        1659 non-null   Int64 \n",
      " 1   Length      1592 non-null   Int64 \n",
      " 2   Title       1659 non-null   string\n",
      " 3   Subject     1657 non-null   string\n",
      " 4   Actor       1651 non-null   string\n",
      " 5   Actress     1281 non-null   string\n",
      " 6   Director    1406 non-null   string\n",
      " 7   Popularity  1653 non-null   Int64 \n",
      " 8   Awards      1659 non-null   string\n",
      "dtypes: Int64(3), string(6)\n",
      "memory usage: 121.6 KB\n"
     ]
    }
   ],
   "source": [
    "db = pd.read_csv('film.csv', sep=';')\n",
    "\n",
    "db = db.convert_dtypes()\n",
    "db.info()"
   ]
  },
  {
   "cell_type": "code",
   "execution_count": 10,
   "id": "454495dd",
   "metadata": {},
   "outputs": [
    {
     "data": {
      "text/html": [
       "<div>\n",
       "<style scoped>\n",
       "    .dataframe tbody tr th:only-of-type {\n",
       "        vertical-align: middle;\n",
       "    }\n",
       "\n",
       "    .dataframe tbody tr th {\n",
       "        vertical-align: top;\n",
       "    }\n",
       "\n",
       "    .dataframe thead th {\n",
       "        text-align: right;\n",
       "    }\n",
       "</style>\n",
       "<table border=\"1\" class=\"dataframe\">\n",
       "  <thead>\n",
       "    <tr style=\"text-align: right;\">\n",
       "      <th></th>\n",
       "      <th>Year</th>\n",
       "      <th>Length</th>\n",
       "      <th>Title</th>\n",
       "      <th>Subject</th>\n",
       "      <th>Actor</th>\n",
       "      <th>Actress</th>\n",
       "      <th>Director</th>\n",
       "      <th>Popularity</th>\n",
       "      <th>Awards</th>\n",
       "    </tr>\n",
       "  </thead>\n",
       "  <tbody>\n",
       "    <tr>\n",
       "      <th>0</th>\n",
       "      <td>1990</td>\n",
       "      <td>111.0</td>\n",
       "      <td>Tie Me Up! Tie Me Down!</td>\n",
       "      <td>Comedy</td>\n",
       "      <td>Banderas, Antonio</td>\n",
       "      <td>Abril, Victoria</td>\n",
       "      <td>Almod�var, Pedro</td>\n",
       "      <td>68.0</td>\n",
       "      <td>No</td>\n",
       "    </tr>\n",
       "    <tr>\n",
       "      <th>1</th>\n",
       "      <td>1991</td>\n",
       "      <td>113.0</td>\n",
       "      <td>High Heels</td>\n",
       "      <td>Comedy</td>\n",
       "      <td>Bos�, Miguel</td>\n",
       "      <td>Abril, Victoria</td>\n",
       "      <td>Almod�var, Pedro</td>\n",
       "      <td>68.0</td>\n",
       "      <td>No</td>\n",
       "    </tr>\n",
       "    <tr>\n",
       "      <th>2</th>\n",
       "      <td>1983</td>\n",
       "      <td>104.0</td>\n",
       "      <td>Dead Zone, The</td>\n",
       "      <td>Horror</td>\n",
       "      <td>Walken, Christopher</td>\n",
       "      <td>Adams, Brooke</td>\n",
       "      <td>Cronenberg, David</td>\n",
       "      <td>79.0</td>\n",
       "      <td>No</td>\n",
       "    </tr>\n",
       "    <tr>\n",
       "      <th>3</th>\n",
       "      <td>1979</td>\n",
       "      <td>122.0</td>\n",
       "      <td>Cuba</td>\n",
       "      <td>Action</td>\n",
       "      <td>Connery, Sean</td>\n",
       "      <td>Adams, Brooke</td>\n",
       "      <td>Lester, Richard</td>\n",
       "      <td>6.0</td>\n",
       "      <td>No</td>\n",
       "    </tr>\n",
       "    <tr>\n",
       "      <th>4</th>\n",
       "      <td>1978</td>\n",
       "      <td>94.0</td>\n",
       "      <td>Days of Heaven</td>\n",
       "      <td>Drama</td>\n",
       "      <td>Gere, Richard</td>\n",
       "      <td>Adams, Brooke</td>\n",
       "      <td>Malick, Terrence</td>\n",
       "      <td>14.0</td>\n",
       "      <td>No</td>\n",
       "    </tr>\n",
       "    <tr>\n",
       "      <th>...</th>\n",
       "      <td>...</td>\n",
       "      <td>...</td>\n",
       "      <td>...</td>\n",
       "      <td>...</td>\n",
       "      <td>...</td>\n",
       "      <td>...</td>\n",
       "      <td>...</td>\n",
       "      <td>...</td>\n",
       "      <td>...</td>\n",
       "    </tr>\n",
       "    <tr>\n",
       "      <th>1654</th>\n",
       "      <td>1932</td>\n",
       "      <td>226.0</td>\n",
       "      <td>Shadow of the Eagle, The</td>\n",
       "      <td>Action</td>\n",
       "      <td>Wayne, John</td>\n",
       "      <td>None</td>\n",
       "      <td>None</td>\n",
       "      <td>19.0</td>\n",
       "      <td>No</td>\n",
       "    </tr>\n",
       "    <tr>\n",
       "      <th>1655</th>\n",
       "      <td>1989</td>\n",
       "      <td>103.0</td>\n",
       "      <td>Blood &amp; Guns</td>\n",
       "      <td>Action</td>\n",
       "      <td>Welles, Orson</td>\n",
       "      <td>None</td>\n",
       "      <td>None</td>\n",
       "      <td>43.0</td>\n",
       "      <td>No</td>\n",
       "    </tr>\n",
       "    <tr>\n",
       "      <th>1656</th>\n",
       "      <td>1988</td>\n",
       "      <td>78.0</td>\n",
       "      <td>Hot Money</td>\n",
       "      <td>Drama</td>\n",
       "      <td>Welles, Orson</td>\n",
       "      <td>None</td>\n",
       "      <td>None</td>\n",
       "      <td>19.0</td>\n",
       "      <td>No</td>\n",
       "    </tr>\n",
       "    <tr>\n",
       "      <th>1657</th>\n",
       "      <td>1977</td>\n",
       "      <td>75.0</td>\n",
       "      <td>Comedy Tonight</td>\n",
       "      <td>Comedy</td>\n",
       "      <td>Williams, Robin</td>\n",
       "      <td>None</td>\n",
       "      <td>None</td>\n",
       "      <td>18.0</td>\n",
       "      <td>No</td>\n",
       "    </tr>\n",
       "    <tr>\n",
       "      <th>1658</th>\n",
       "      <td>1991</td>\n",
       "      <td>65.0</td>\n",
       "      <td>Robin Williams</td>\n",
       "      <td>Comedy</td>\n",
       "      <td>Williams, Robin</td>\n",
       "      <td>None</td>\n",
       "      <td>None</td>\n",
       "      <td>4.0</td>\n",
       "      <td>No</td>\n",
       "    </tr>\n",
       "  </tbody>\n",
       "</table>\n",
       "<p>1659 rows × 9 columns</p>\n",
       "</div>"
      ],
      "text/plain": [
       "      Year  Length                     Title Subject                Actor  \\\n",
       "0     1990   111.0   Tie Me Up! Tie Me Down!  Comedy    Banderas, Antonio   \n",
       "1     1991   113.0                High Heels  Comedy         Bos�, Miguel   \n",
       "2     1983   104.0            Dead Zone, The  Horror  Walken, Christopher   \n",
       "3     1979   122.0                      Cuba  Action        Connery, Sean   \n",
       "4     1978    94.0            Days of Heaven   Drama        Gere, Richard   \n",
       "...    ...     ...                       ...     ...                  ...   \n",
       "1654  1932   226.0  Shadow of the Eagle, The  Action          Wayne, John   \n",
       "1655  1989   103.0              Blood & Guns  Action        Welles, Orson   \n",
       "1656  1988    78.0                 Hot Money   Drama        Welles, Orson   \n",
       "1657  1977    75.0            Comedy Tonight  Comedy      Williams, Robin   \n",
       "1658  1991    65.0            Robin Williams  Comedy      Williams, Robin   \n",
       "\n",
       "              Actress           Director  Popularity Awards  \n",
       "0     Abril, Victoria   Almod�var, Pedro        68.0     No  \n",
       "1     Abril, Victoria   Almod�var, Pedro        68.0     No  \n",
       "2       Adams, Brooke  Cronenberg, David        79.0     No  \n",
       "3       Adams, Brooke    Lester, Richard         6.0     No  \n",
       "4       Adams, Brooke   Malick, Terrence        14.0     No  \n",
       "...               ...                ...         ...    ...  \n",
       "1654             None               None        19.0     No  \n",
       "1655             None               None        43.0     No  \n",
       "1656             None               None        19.0     No  \n",
       "1657             None               None        18.0     No  \n",
       "1658             None               None         4.0     No  \n",
       "\n",
       "[1659 rows x 9 columns]"
      ]
     },
     "execution_count": 10,
     "metadata": {},
     "output_type": "execute_result"
    }
   ],
   "source": [
    "pysqldf('''\n",
    "    SELECT *\n",
    "    FROM db;\n",
    "''')"
   ]
  },
  {
   "cell_type": "code",
   "execution_count": 12,
   "id": "b60adaad",
   "metadata": {},
   "outputs": [
    {
     "data": {
      "text/html": [
       "<div>\n",
       "<style scoped>\n",
       "    .dataframe tbody tr th:only-of-type {\n",
       "        vertical-align: middle;\n",
       "    }\n",
       "\n",
       "    .dataframe tbody tr th {\n",
       "        vertical-align: top;\n",
       "    }\n",
       "\n",
       "    .dataframe thead th {\n",
       "        text-align: right;\n",
       "    }\n",
       "</style>\n",
       "<table border=\"1\" class=\"dataframe\">\n",
       "  <thead>\n",
       "    <tr style=\"text-align: right;\">\n",
       "      <th></th>\n",
       "      <th>Year</th>\n",
       "      <th>Length</th>\n",
       "      <th>Popularity</th>\n",
       "    </tr>\n",
       "  </thead>\n",
       "  <tbody>\n",
       "    <tr>\n",
       "      <th>count</th>\n",
       "      <td>1659.000000</td>\n",
       "      <td>1592.000000</td>\n",
       "      <td>1653.000000</td>\n",
       "    </tr>\n",
       "    <tr>\n",
       "      <th>mean</th>\n",
       "      <td>1975.802893</td>\n",
       "      <td>105.179648</td>\n",
       "      <td>43.110103</td>\n",
       "    </tr>\n",
       "    <tr>\n",
       "      <th>std</th>\n",
       "      <td>17.057848</td>\n",
       "      <td>30.629501</td>\n",
       "      <td>26.747406</td>\n",
       "    </tr>\n",
       "    <tr>\n",
       "      <th>min</th>\n",
       "      <td>1920.000000</td>\n",
       "      <td>5.000000</td>\n",
       "      <td>0.000000</td>\n",
       "    </tr>\n",
       "    <tr>\n",
       "      <th>25%</th>\n",
       "      <td>1967.000000</td>\n",
       "      <td>90.000000</td>\n",
       "      <td>19.000000</td>\n",
       "    </tr>\n",
       "    <tr>\n",
       "      <th>50%</th>\n",
       "      <td>1983.000000</td>\n",
       "      <td>102.000000</td>\n",
       "      <td>43.000000</td>\n",
       "    </tr>\n",
       "    <tr>\n",
       "      <th>75%</th>\n",
       "      <td>1989.000000</td>\n",
       "      <td>116.000000</td>\n",
       "      <td>67.000000</td>\n",
       "    </tr>\n",
       "    <tr>\n",
       "      <th>max</th>\n",
       "      <td>1997.000000</td>\n",
       "      <td>450.000000</td>\n",
       "      <td>88.000000</td>\n",
       "    </tr>\n",
       "  </tbody>\n",
       "</table>\n",
       "</div>"
      ],
      "text/plain": [
       "              Year       Length   Popularity\n",
       "count  1659.000000  1592.000000  1653.000000\n",
       "mean   1975.802893   105.179648    43.110103\n",
       "std      17.057848    30.629501    26.747406\n",
       "min    1920.000000     5.000000     0.000000\n",
       "25%    1967.000000    90.000000    19.000000\n",
       "50%    1983.000000   102.000000    43.000000\n",
       "75%    1989.000000   116.000000    67.000000\n",
       "max    1997.000000   450.000000    88.000000"
      ]
     },
     "execution_count": 12,
     "metadata": {},
     "output_type": "execute_result"
    }
   ],
   "source": [
    "db.describe()"
   ]
  },
  {
   "cell_type": "markdown",
   "id": "74f5e6ce",
   "metadata": {},
   "source": [
    "## Proposal and Hypotesis\n",
    "\n",
    "There is a database describing films, their popularity, actors, types, and length. As we can see, we are dealing with films during the 1920 to the 1997 period. Length of films differs a lot (from 5 to 450 minutes).\n",
    "\n",
    "We will explore and try to answer the following questions:\n",
    "\n",
    "1. Well, the first question is about correlation between Awards and Popularity of films. As one can notice, critics and ordinary audience are not always agree about film quality. \n",
    "\n",
    "2. There is my own hypotesis: if actor or actress gets an award, he or she has higher probability to get it again."
   ]
  },
  {
   "cell_type": "markdown",
   "id": "d29c060f",
   "metadata": {},
   "source": [
    "### Question no.1"
   ]
  },
  {
   "cell_type": "markdown",
   "id": "eb09a6aa",
   "metadata": {},
   "source": [
    "We will count the average and mean for films with and without awards."
   ]
  },
  {
   "cell_type": "code",
   "execution_count": 23,
   "id": "9de3cbcf",
   "metadata": {},
   "outputs": [
    {
     "data": {
      "text/html": [
       "<div>\n",
       "<style scoped>\n",
       "    .dataframe tbody tr th:only-of-type {\n",
       "        vertical-align: middle;\n",
       "    }\n",
       "\n",
       "    .dataframe tbody tr th {\n",
       "        vertical-align: top;\n",
       "    }\n",
       "\n",
       "    .dataframe thead th {\n",
       "        text-align: right;\n",
       "    }\n",
       "</style>\n",
       "<table border=\"1\" class=\"dataframe\">\n",
       "  <thead>\n",
       "    <tr style=\"text-align: right;\">\n",
       "      <th></th>\n",
       "      <th>Year</th>\n",
       "      <th>Length</th>\n",
       "      <th>Popularity</th>\n",
       "    </tr>\n",
       "  </thead>\n",
       "  <tbody>\n",
       "    <tr>\n",
       "      <th>count</th>\n",
       "      <td>163.000000</td>\n",
       "      <td>159.000000</td>\n",
       "      <td>163.000000</td>\n",
       "    </tr>\n",
       "    <tr>\n",
       "      <th>mean</th>\n",
       "      <td>1973.220859</td>\n",
       "      <td>126.345912</td>\n",
       "      <td>41.269939</td>\n",
       "    </tr>\n",
       "    <tr>\n",
       "      <th>std</th>\n",
       "      <td>13.168436</td>\n",
       "      <td>35.773016</td>\n",
       "      <td>29.407957</td>\n",
       "    </tr>\n",
       "    <tr>\n",
       "      <th>min</th>\n",
       "      <td>1928.000000</td>\n",
       "      <td>81.000000</td>\n",
       "      <td>0.000000</td>\n",
       "    </tr>\n",
       "    <tr>\n",
       "      <th>25%</th>\n",
       "      <td>1966.000000</td>\n",
       "      <td>104.500000</td>\n",
       "      <td>8.000000</td>\n",
       "    </tr>\n",
       "    <tr>\n",
       "      <th>50%</th>\n",
       "      <td>1974.000000</td>\n",
       "      <td>119.000000</td>\n",
       "      <td>39.000000</td>\n",
       "    </tr>\n",
       "    <tr>\n",
       "      <th>75%</th>\n",
       "      <td>1984.000000</td>\n",
       "      <td>134.000000</td>\n",
       "      <td>71.000000</td>\n",
       "    </tr>\n",
       "    <tr>\n",
       "      <th>max</th>\n",
       "      <td>1992.000000</td>\n",
       "      <td>360.000000</td>\n",
       "      <td>88.000000</td>\n",
       "    </tr>\n",
       "  </tbody>\n",
       "</table>\n",
       "</div>"
      ],
      "text/plain": [
       "              Year      Length  Popularity\n",
       "count   163.000000  159.000000  163.000000\n",
       "mean   1973.220859  126.345912   41.269939\n",
       "std      13.168436   35.773016   29.407957\n",
       "min    1928.000000   81.000000    0.000000\n",
       "25%    1966.000000  104.500000    8.000000\n",
       "50%    1974.000000  119.000000   39.000000\n",
       "75%    1984.000000  134.000000   71.000000\n",
       "max    1992.000000  360.000000   88.000000"
      ]
     },
     "execution_count": 23,
     "metadata": {},
     "output_type": "execute_result"
    }
   ],
   "source": [
    "awards_films = pd.DataFrame(pysqldf(\n",
    "    '''\n",
    "        SELECT *\n",
    "        FROM db\n",
    "        WHERE Awards != 'No';\n",
    "    '''\n",
    "))\n",
    "\n",
    "awards_films.describe()"
   ]
  },
  {
   "cell_type": "code",
   "execution_count": 22,
   "id": "5fad9ff7",
   "metadata": {},
   "outputs": [
    {
     "data": {
      "text/html": [
       "<div>\n",
       "<style scoped>\n",
       "    .dataframe tbody tr th:only-of-type {\n",
       "        vertical-align: middle;\n",
       "    }\n",
       "\n",
       "    .dataframe tbody tr th {\n",
       "        vertical-align: top;\n",
       "    }\n",
       "\n",
       "    .dataframe thead th {\n",
       "        text-align: right;\n",
       "    }\n",
       "</style>\n",
       "<table border=\"1\" class=\"dataframe\">\n",
       "  <thead>\n",
       "    <tr style=\"text-align: right;\">\n",
       "      <th></th>\n",
       "      <th>Year</th>\n",
       "      <th>Length</th>\n",
       "      <th>Popularity</th>\n",
       "    </tr>\n",
       "  </thead>\n",
       "  <tbody>\n",
       "    <tr>\n",
       "      <th>count</th>\n",
       "      <td>1496.000000</td>\n",
       "      <td>1433.000000</td>\n",
       "      <td>1490.000000</td>\n",
       "    </tr>\n",
       "    <tr>\n",
       "      <th>mean</th>\n",
       "      <td>1976.084225</td>\n",
       "      <td>102.831124</td>\n",
       "      <td>43.311409</td>\n",
       "    </tr>\n",
       "    <tr>\n",
       "      <th>std</th>\n",
       "      <td>17.409708</td>\n",
       "      <td>29.083908</td>\n",
       "      <td>26.443110</td>\n",
       "    </tr>\n",
       "    <tr>\n",
       "      <th>min</th>\n",
       "      <td>1920.000000</td>\n",
       "      <td>5.000000</td>\n",
       "      <td>0.000000</td>\n",
       "    </tr>\n",
       "    <tr>\n",
       "      <th>25%</th>\n",
       "      <td>1967.000000</td>\n",
       "      <td>90.000000</td>\n",
       "      <td>20.000000</td>\n",
       "    </tr>\n",
       "    <tr>\n",
       "      <th>50%</th>\n",
       "      <td>1984.000000</td>\n",
       "      <td>100.000000</td>\n",
       "      <td>44.000000</td>\n",
       "    </tr>\n",
       "    <tr>\n",
       "      <th>75%</th>\n",
       "      <td>1989.000000</td>\n",
       "      <td>113.000000</td>\n",
       "      <td>67.000000</td>\n",
       "    </tr>\n",
       "    <tr>\n",
       "      <th>max</th>\n",
       "      <td>1997.000000</td>\n",
       "      <td>450.000000</td>\n",
       "      <td>88.000000</td>\n",
       "    </tr>\n",
       "  </tbody>\n",
       "</table>\n",
       "</div>"
      ],
      "text/plain": [
       "              Year       Length   Popularity\n",
       "count  1496.000000  1433.000000  1490.000000\n",
       "mean   1976.084225   102.831124    43.311409\n",
       "std      17.409708    29.083908    26.443110\n",
       "min    1920.000000     5.000000     0.000000\n",
       "25%    1967.000000    90.000000    20.000000\n",
       "50%    1984.000000   100.000000    44.000000\n",
       "75%    1989.000000   113.000000    67.000000\n",
       "max    1997.000000   450.000000    88.000000"
      ]
     },
     "execution_count": 22,
     "metadata": {},
     "output_type": "execute_result"
    }
   ],
   "source": [
    "no_awards_films = pd.DataFrame(pysqldf(\n",
    "    '''\n",
    "        SELECT *\n",
    "        FROM db\n",
    "        WHERE Awards != 'Yes';\n",
    "    '''\n",
    "))\n",
    "\n",
    "no_awards_films.describe()"
   ]
  },
  {
   "cell_type": "markdown",
   "id": "bd6a9dd5",
   "metadata": {},
   "source": [
    "As we can see, average and mean popularity ratings for this categories do not differ a lot. \n",
    "The graphic below compares critics and other audience average popularitiy schores for each year."
   ]
  },
  {
   "cell_type": "code",
   "execution_count": 42,
   "id": "ae45b3cb",
   "metadata": {},
   "outputs": [
    {
     "data": {
      "text/html": [
       "<div>\n",
       "<style scoped>\n",
       "    .dataframe tbody tr th:only-of-type {\n",
       "        vertical-align: middle;\n",
       "    }\n",
       "\n",
       "    .dataframe tbody tr th {\n",
       "        vertical-align: top;\n",
       "    }\n",
       "\n",
       "    .dataframe thead th {\n",
       "        text-align: right;\n",
       "    }\n",
       "</style>\n",
       "<table border=\"1\" class=\"dataframe\">\n",
       "  <thead>\n",
       "    <tr style=\"text-align: right;\">\n",
       "      <th></th>\n",
       "      <th>Popularity</th>\n",
       "      <th>Year</th>\n",
       "      <th>Awards</th>\n",
       "    </tr>\n",
       "  </thead>\n",
       "  <tbody>\n",
       "    <tr>\n",
       "      <th>0</th>\n",
       "      <td>60.000000</td>\n",
       "      <td>1997</td>\n",
       "      <td>No</td>\n",
       "    </tr>\n",
       "    <tr>\n",
       "      <th>1</th>\n",
       "      <td>39.000000</td>\n",
       "      <td>1996</td>\n",
       "      <td>No</td>\n",
       "    </tr>\n",
       "    <tr>\n",
       "      <th>2</th>\n",
       "      <td>41.666667</td>\n",
       "      <td>1993</td>\n",
       "      <td>No</td>\n",
       "    </tr>\n",
       "    <tr>\n",
       "      <th>3</th>\n",
       "      <td>41.372093</td>\n",
       "      <td>1992</td>\n",
       "      <td>No</td>\n",
       "    </tr>\n",
       "    <tr>\n",
       "      <th>4</th>\n",
       "      <td>45.000000</td>\n",
       "      <td>1992</td>\n",
       "      <td>Yes</td>\n",
       "    </tr>\n",
       "    <tr>\n",
       "      <th>...</th>\n",
       "      <td>...</td>\n",
       "      <td>...</td>\n",
       "      <td>...</td>\n",
       "    </tr>\n",
       "    <tr>\n",
       "      <th>117</th>\n",
       "      <td>63.000000</td>\n",
       "      <td>1926</td>\n",
       "      <td>No</td>\n",
       "    </tr>\n",
       "    <tr>\n",
       "      <th>118</th>\n",
       "      <td>73.000000</td>\n",
       "      <td>1925</td>\n",
       "      <td>No</td>\n",
       "    </tr>\n",
       "    <tr>\n",
       "      <th>119</th>\n",
       "      <td>72.000000</td>\n",
       "      <td>1924</td>\n",
       "      <td>No</td>\n",
       "    </tr>\n",
       "    <tr>\n",
       "      <th>120</th>\n",
       "      <td>NaN</td>\n",
       "      <td>1923</td>\n",
       "      <td>No</td>\n",
       "    </tr>\n",
       "    <tr>\n",
       "      <th>121</th>\n",
       "      <td>29.000000</td>\n",
       "      <td>1920</td>\n",
       "      <td>No</td>\n",
       "    </tr>\n",
       "  </tbody>\n",
       "</table>\n",
       "<p>122 rows × 3 columns</p>\n",
       "</div>"
      ],
      "text/plain": [
       "     Popularity  Year Awards\n",
       "0     60.000000  1997     No\n",
       "1     39.000000  1996     No\n",
       "2     41.666667  1993     No\n",
       "3     41.372093  1992     No\n",
       "4     45.000000  1992    Yes\n",
       "..          ...   ...    ...\n",
       "117   63.000000  1926     No\n",
       "118   73.000000  1925     No\n",
       "119   72.000000  1924     No\n",
       "120         NaN  1923     No\n",
       "121   29.000000  1920     No\n",
       "\n",
       "[122 rows x 3 columns]"
      ]
     },
     "execution_count": 42,
     "metadata": {},
     "output_type": "execute_result"
    }
   ],
   "source": [
    "table_avg_popularity = pd.DataFrame(pysqldf(\n",
    "'''\n",
    "    SELECT AVG(Popularity) AS Popularity,\n",
    "           Year,\n",
    "           Awards\n",
    "    FROM db\n",
    "    GROUP BY Year, Awards\n",
    "    ORDER BY Year DESC;\n",
    "'''\n",
    "))\n",
    "\n",
    "table_avg_popularity"
   ]
  },
  {
   "cell_type": "code",
   "execution_count": 45,
   "id": "f82ab6d3",
   "metadata": {},
   "outputs": [
    {
     "data": {
      "text/plain": [
       "<matplotlib.legend.Legend at 0x201a4421190>"
      ]
     },
     "execution_count": 45,
     "metadata": {},
     "output_type": "execute_result"
    },
    {
     "data": {
      "image/png": "[encoded data removed]",
      "text/plain": [
       "<Figure size 1296x864 with 1 Axes>"
      ]
     },
     "metadata": {
      "needs_background": "light"
     },
     "output_type": "display_data"
    }
   ],
   "source": [
    "plt.rcParams[\"figure.figsize\"] = (18, 12)\n",
    "\n",
    "plt.subplot(1, 1, 1)\n",
    "plt.plot(table_avg_popularity['Year'][table_avg_popularity['Awards'] == 'Yes'], table_avg_popularity['Popularity'][table_avg_popularity['Awards'] == 'Yes'], label='Average popularity of films with awards')\n",
    "plt.plot(table_avg_popularity['Year'][table_avg_popularity['Awards'] == 'No'], table_avg_popularity['Popularity'][table_avg_popularity['Awards'] == 'No'], label='Average popularity of films without awards')\n",
    "plt.title('Average popularity of films')\n",
    "plt.legend()"
   ]
  },
  {
   "cell_type": "markdown",
   "id": "83b9c621",
   "metadata": {},
   "source": [
    "Analyzing graphic below, one can notice, that popularity of films with awards not always higher than the popularity of films without awards. And as we can notice suppose there are about 8 years, when the critics' choice was extremely unpopular among ordinary viewers. "
   ]
  },
  {
   "cell_type": "code",
   "execution_count": 122,
   "id": "d531163c",
   "metadata": {},
   "outputs": [
    {
     "data": {
      "text/html": [
       "<div>\n",
       "<style scoped>\n",
       "    .dataframe tbody tr th:only-of-type {\n",
       "        vertical-align: middle;\n",
       "    }\n",
       "\n",
       "    .dataframe tbody tr th {\n",
       "        vertical-align: top;\n",
       "    }\n",
       "\n",
       "    .dataframe thead th {\n",
       "        text-align: right;\n",
       "    }\n",
       "</style>\n",
       "<table border=\"1\" class=\"dataframe\">\n",
       "  <thead>\n",
       "    <tr style=\"text-align: right;\">\n",
       "      <th></th>\n",
       "      <th>avg_popularity</th>\n",
       "      <th>Year</th>\n",
       "      <th>Awards</th>\n",
       "    </tr>\n",
       "  </thead>\n",
       "  <tbody>\n",
       "    <tr>\n",
       "      <th>0</th>\n",
       "      <td>59.250000</td>\n",
       "      <td>1928</td>\n",
       "      <td>No</td>\n",
       "    </tr>\n",
       "    <tr>\n",
       "      <th>1</th>\n",
       "      <td>44.000000</td>\n",
       "      <td>1928</td>\n",
       "      <td>Yes</td>\n",
       "    </tr>\n",
       "    <tr>\n",
       "      <th>2</th>\n",
       "      <td>60.000000</td>\n",
       "      <td>1931</td>\n",
       "      <td>No</td>\n",
       "    </tr>\n",
       "    <tr>\n",
       "      <th>3</th>\n",
       "      <td>44.000000</td>\n",
       "      <td>1931</td>\n",
       "      <td>Yes</td>\n",
       "    </tr>\n",
       "    <tr>\n",
       "      <th>4</th>\n",
       "      <td>51.857143</td>\n",
       "      <td>1932</td>\n",
       "      <td>No</td>\n",
       "    </tr>\n",
       "    <tr>\n",
       "      <th>...</th>\n",
       "      <td>...</td>\n",
       "      <td>...</td>\n",
       "      <td>...</td>\n",
       "    </tr>\n",
       "    <tr>\n",
       "      <th>91</th>\n",
       "      <td>28.600000</td>\n",
       "      <td>1990</td>\n",
       "      <td>Yes</td>\n",
       "    </tr>\n",
       "    <tr>\n",
       "      <th>92</th>\n",
       "      <td>42.574803</td>\n",
       "      <td>1991</td>\n",
       "      <td>No</td>\n",
       "    </tr>\n",
       "    <tr>\n",
       "      <th>93</th>\n",
       "      <td>4.500000</td>\n",
       "      <td>1991</td>\n",
       "      <td>Yes</td>\n",
       "    </tr>\n",
       "    <tr>\n",
       "      <th>94</th>\n",
       "      <td>41.372093</td>\n",
       "      <td>1992</td>\n",
       "      <td>No</td>\n",
       "    </tr>\n",
       "    <tr>\n",
       "      <th>95</th>\n",
       "      <td>45.000000</td>\n",
       "      <td>1992</td>\n",
       "      <td>Yes</td>\n",
       "    </tr>\n",
       "  </tbody>\n",
       "</table>\n",
       "<p>96 rows × 3 columns</p>\n",
       "</div>"
      ],
      "text/plain": [
       "    avg_popularity  Year Awards\n",
       "0        59.250000  1928     No\n",
       "1        44.000000  1928    Yes\n",
       "2        60.000000  1931     No\n",
       "3        44.000000  1931    Yes\n",
       "4        51.857143  1932     No\n",
       "..             ...   ...    ...\n",
       "91       28.600000  1990    Yes\n",
       "92       42.574803  1991     No\n",
       "93        4.500000  1991    Yes\n",
       "94       41.372093  1992     No\n",
       "95       45.000000  1992    Yes\n",
       "\n",
       "[96 rows x 3 columns]"
      ]
     },
     "execution_count": 122,
     "metadata": {},
     "output_type": "execute_result"
    }
   ],
   "source": [
    "years_of_awards = pd.DataFrame(pysqldf(\n",
    "'''\n",
    "    SELECT COUNT(Year) AS year_count, \n",
    "           Year\n",
    "    FROM (\n",
    "        SELECT AVG(Popularity) AS average_popularity_per_year,\n",
    "               Year,\n",
    "               Awards\n",
    "        FROM db\n",
    "        GROUP BY Year, Awards\n",
    "    ) AS t\n",
    "    GROUP BY Year\n",
    "    HAVING year_count != 1\n",
    "    ORDER BY Year DESC;\n",
    "'''\n",
    "))['Year']\n",
    "\n",
    "popularity = pysqldf(\n",
    "f'''\n",
    "    SELECT AVG(Popularity) AS avg_popularity,\n",
    "           Year,\n",
    "           Awards\n",
    "    FROM db\n",
    "    GROUP BY Year, Awards\n",
    "    HAVING Year IN ({str(list(years_of_awards))[1:-1:]});\n",
    "'''\n",
    ")\n",
    "\n",
    "popularity"
   ]
  },
  {
   "cell_type": "code",
   "execution_count": 124,
   "id": "437a956a",
   "metadata": {},
   "outputs": [
    {
     "data": {
      "text/plain": [
       "nan"
      ]
     },
     "execution_count": 124,
     "metadata": {},
     "output_type": "execute_result"
    }
   ],
   "source": [
    "popularity['avg_popularity'][popularity['Awards'] == 'No'].corr(popularity['avg_popularity'][popularity['Awards'] == 'Yes'])"
   ]
  },
  {
   "cell_type": "code",
   "execution_count": 144,
   "id": "b9936150",
   "metadata": {},
   "outputs": [
    {
     "name": "stdout",
     "output_type": "stream",
     "text": [
      "Correlation between critics' opinions and others' priority: -0.03075176388418002\n"
     ]
    }
   ],
   "source": [
    "pop_win = list(popularity['avg_popularity'].where(popularity['Awards'] == 'Yes'))\n",
    "pop_win = [x for x in pop_win if str(x) != 'nan']\n",
    "\n",
    "pop_lose = list(popularity['avg_popularity'].where(popularity['Awards'] == 'No'))\n",
    "pop_lose = [x for x in pop_lose if str(x) != 'nan']\n",
    "\n",
    "print(\"Correlation between critics' opinions and others' priority:\", pd.Series(pop_win).corr(pd.Series(pop_lose)))"
   ]
  },
  {
   "cell_type": "markdown",
   "id": "9676b35c",
   "metadata": {},
   "source": [
    "### Question no. 2\n",
    "\n",
    "The question is quite stupid and the solution provided is very naive: we count number of awards for each actor and actress, and films with them without awards, and find descriptive statistics about the obtained table."
   ]
  },
  {
   "cell_type": "code",
   "execution_count": 51,
   "id": "ad401bf5",
   "metadata": {},
   "outputs": [
    {
     "data": {
      "text/html": [
       "<div>\n",
       "<style scoped>\n",
       "    .dataframe tbody tr th:only-of-type {\n",
       "        vertical-align: middle;\n",
       "    }\n",
       "\n",
       "    .dataframe tbody tr th {\n",
       "        vertical-align: top;\n",
       "    }\n",
       "\n",
       "    .dataframe thead th {\n",
       "        text-align: right;\n",
       "    }\n",
       "</style>\n",
       "<table border=\"1\" class=\"dataframe\">\n",
       "  <thead>\n",
       "    <tr style=\"text-align: right;\">\n",
       "      <th></th>\n",
       "      <th>Actor</th>\n",
       "      <th>winning_count</th>\n",
       "    </tr>\n",
       "  </thead>\n",
       "  <tbody>\n",
       "    <tr>\n",
       "      <th>0</th>\n",
       "      <td>None</td>\n",
       "      <td>1</td>\n",
       "    </tr>\n",
       "    <tr>\n",
       "      <th>1</th>\n",
       "      <td>Abraham, F. Murray</td>\n",
       "      <td>1</td>\n",
       "    </tr>\n",
       "    <tr>\n",
       "      <th>2</th>\n",
       "      <td>Adolphson, Kristina</td>\n",
       "      <td>1</td>\n",
       "    </tr>\n",
       "    <tr>\n",
       "      <th>3</th>\n",
       "      <td>Ahlstedt, B�rje</td>\n",
       "      <td>1</td>\n",
       "    </tr>\n",
       "    <tr>\n",
       "      <th>4</th>\n",
       "      <td>Albert, Edward</td>\n",
       "      <td>1</td>\n",
       "    </tr>\n",
       "    <tr>\n",
       "      <th>...</th>\n",
       "      <td>...</td>\n",
       "      <td>...</td>\n",
       "    </tr>\n",
       "    <tr>\n",
       "      <th>137</th>\n",
       "      <td>Hurt, William</td>\n",
       "      <td>5</td>\n",
       "    </tr>\n",
       "    <tr>\n",
       "      <th>138</th>\n",
       "      <td>Bisset, Jacqueline</td>\n",
       "      <td>24</td>\n",
       "    </tr>\n",
       "    <tr>\n",
       "      <th>139</th>\n",
       "      <td>Dietrich, Marlene</td>\n",
       "      <td>24</td>\n",
       "    </tr>\n",
       "    <tr>\n",
       "      <th>140</th>\n",
       "      <td>Lancaster, Burt</td>\n",
       "      <td>24</td>\n",
       "    </tr>\n",
       "    <tr>\n",
       "      <th>141</th>\n",
       "      <td>Tracy, Spencer</td>\n",
       "      <td>24</td>\n",
       "    </tr>\n",
       "  </tbody>\n",
       "</table>\n",
       "<p>142 rows × 2 columns</p>\n",
       "</div>"
      ],
      "text/plain": [
       "                   Actor  winning_count\n",
       "0                   None              1\n",
       "1     Abraham, F. Murray              1\n",
       "2    Adolphson, Kristina              1\n",
       "3        Ahlstedt, B�rje              1\n",
       "4         Albert, Edward              1\n",
       "..                   ...            ...\n",
       "137        Hurt, William              5\n",
       "138   Bisset, Jacqueline             24\n",
       "139    Dietrich, Marlene             24\n",
       "140      Lancaster, Burt             24\n",
       "141       Tracy, Spencer             24\n",
       "\n",
       "[142 rows x 2 columns]"
      ]
     },
     "execution_count": 51,
     "metadata": {},
     "output_type": "execute_result"
    }
   ],
   "source": [
    "ratings_table = pd.DataFrame(pysqldf(\n",
    "'''\n",
    "    SELECT Actor,\n",
    "           COUNT(Awards) AS winning_count\n",
    "    FROM db\n",
    "    GROUP BY Actor\n",
    "    HAVING Awards == 'Yes'\n",
    "    UNION\n",
    "    SELECT Actress AS Actor,\n",
    "           COUNT(Awards) AS winning_count\n",
    "    FROM db\n",
    "    GROUP BY Actor\n",
    "    HAVING Awards == 'Yes'\n",
    "    ORDER BY winning_count;\n",
    "'''\n",
    "))\n",
    "\n",
    "ratings_table"
   ]
  },
  {
   "cell_type": "code",
   "execution_count": 53,
   "id": "a54df99e",
   "metadata": {},
   "outputs": [
    {
     "data": {
      "text/html": [
       "<div>\n",
       "<style scoped>\n",
       "    .dataframe tbody tr th:only-of-type {\n",
       "        vertical-align: middle;\n",
       "    }\n",
       "\n",
       "    .dataframe tbody tr th {\n",
       "        vertical-align: top;\n",
       "    }\n",
       "\n",
       "    .dataframe thead th {\n",
       "        text-align: right;\n",
       "    }\n",
       "</style>\n",
       "<table border=\"1\" class=\"dataframe\">\n",
       "  <thead>\n",
       "    <tr style=\"text-align: right;\">\n",
       "      <th></th>\n",
       "      <th>winning_count</th>\n",
       "    </tr>\n",
       "  </thead>\n",
       "  <tbody>\n",
       "    <tr>\n",
       "      <th>count</th>\n",
       "      <td>142.000000</td>\n",
       "    </tr>\n",
       "    <tr>\n",
       "      <th>mean</th>\n",
       "      <td>2.225352</td>\n",
       "    </tr>\n",
       "    <tr>\n",
       "      <th>std</th>\n",
       "      <td>3.867292</td>\n",
       "    </tr>\n",
       "    <tr>\n",
       "      <th>min</th>\n",
       "      <td>1.000000</td>\n",
       "    </tr>\n",
       "    <tr>\n",
       "      <th>25%</th>\n",
       "      <td>1.000000</td>\n",
       "    </tr>\n",
       "    <tr>\n",
       "      <th>50%</th>\n",
       "      <td>1.000000</td>\n",
       "    </tr>\n",
       "    <tr>\n",
       "      <th>75%</th>\n",
       "      <td>2.000000</td>\n",
       "    </tr>\n",
       "    <tr>\n",
       "      <th>max</th>\n",
       "      <td>24.000000</td>\n",
       "    </tr>\n",
       "  </tbody>\n",
       "</table>\n",
       "</div>"
      ],
      "text/plain": [
       "       winning_count\n",
       "count     142.000000\n",
       "mean        2.225352\n",
       "std         3.867292\n",
       "min         1.000000\n",
       "25%         1.000000\n",
       "50%         1.000000\n",
       "75%         2.000000\n",
       "max        24.000000"
      ]
     },
     "execution_count": 53,
     "metadata": {},
     "output_type": "execute_result"
    }
   ],
   "source": [
    "ratings_table.describe()"
   ]
  },
  {
   "cell_type": "code",
   "execution_count": 60,
   "id": "736fe24c",
   "metadata": {},
   "outputs": [
    {
     "data": {
      "text/plain": [
       "<matplotlib.legend.Legend at 0x201a60c0370>"
      ]
     },
     "execution_count": 60,
     "metadata": {},
     "output_type": "execute_result"
    },
    {
     "data": {
      "image/png": "[encoded data removed]",
      "text/plain": [
       "<Figure size 1440x864 with 1 Axes>"
      ]
     },
     "metadata": {
      "needs_background": "light"
     },
     "output_type": "display_data"
    }
   ],
   "source": [
    "plt.rcParams[\"figure.figsize\"] = (20, 12)\n",
    "\n",
    "plt.subplot(2, 1, 1)\n",
    "plt.plot(range(142), ratings_table['winning_count'], label='Number of awards')\n",
    "plt.title('Number of awards')\n",
    "plt.legend()"
   ]
  },
  {
   "cell_type": "code",
   "execution_count": 67,
   "id": "7dad4cd1",
   "metadata": {},
   "outputs": [
    {
     "data": {
      "text/plain": [
       "Text(0.5, 1.0, 'Histogramm of obtained awards')"
      ]
     },
     "execution_count": 67,
     "metadata": {},
     "output_type": "execute_result"
    },
    {
     "data": {
      "image/png": "[encoded data removed]",
      "text/plain": [
       "<Figure size 1440x864 with 1 Axes>"
      ]
     },
     "metadata": {
      "needs_background": "light"
     },
     "output_type": "display_data"
    }
   ],
   "source": [
    "ratings_table.hist(bins=100)\n",
    "plt.title('Histogramm of obtained awards')"
   ]
  },
  {
   "cell_type": "code",
   "execution_count": 74,
   "id": "d6a0ec60",
   "metadata": {},
   "outputs": [
    {
     "data": {
      "text/html": [
       "<div>\n",
       "<style scoped>\n",
       "    .dataframe tbody tr th:only-of-type {\n",
       "        vertical-align: middle;\n",
       "    }\n",
       "\n",
       "    .dataframe tbody tr th {\n",
       "        vertical-align: top;\n",
       "    }\n",
       "\n",
       "    .dataframe thead th {\n",
       "        text-align: right;\n",
       "    }\n",
       "</style>\n",
       "<table border=\"1\" class=\"dataframe\">\n",
       "  <thead>\n",
       "    <tr style=\"text-align: right;\">\n",
       "      <th></th>\n",
       "      <th>winning_count</th>\n",
       "    </tr>\n",
       "  </thead>\n",
       "  <tbody>\n",
       "    <tr>\n",
       "      <th>0</th>\n",
       "      <td>1</td>\n",
       "    </tr>\n",
       "  </tbody>\n",
       "</table>\n",
       "</div>"
      ],
      "text/plain": [
       "   winning_count\n",
       "0              1"
      ]
     },
     "execution_count": 74,
     "metadata": {},
     "output_type": "execute_result"
    }
   ],
   "source": [
    "pysqldf('''\n",
    "    SELECT winning_count\n",
    "    FROM ratings_table\n",
    "    ORDER BY winning_count\n",
    "    LIMIT 1\n",
    "    OFFSET (SELECT COUNT(*) FROM ratings_table) / 2;\n",
    "''')"
   ]
  },
  {
   "cell_type": "markdown",
   "id": "f18154f7",
   "metadata": {},
   "source": [
    "The results are following: mean and average values of awards obtained by each actor is 1 and 2.22 respectively. And the number of actors who got only one award is almost the same as number of actors who won more then one award. Therefore at this step we figured out that popular actors and 'one film stars' divide in half all workers in the film industry.\n",
    "\n",
    "Now we will count a probability of getting at least one award and getting more than one award."
   ]
  },
  {
   "cell_type": "code",
   "execution_count": 75,
   "id": "10a33cc5",
   "metadata": {},
   "outputs": [
    {
     "data": {
      "text/html": [
       "<div>\n",
       "<style scoped>\n",
       "    .dataframe tbody tr th:only-of-type {\n",
       "        vertical-align: middle;\n",
       "    }\n",
       "\n",
       "    .dataframe tbody tr th {\n",
       "        vertical-align: top;\n",
       "    }\n",
       "\n",
       "    .dataframe thead th {\n",
       "        text-align: right;\n",
       "    }\n",
       "</style>\n",
       "<table border=\"1\" class=\"dataframe\">\n",
       "  <thead>\n",
       "    <tr style=\"text-align: right;\">\n",
       "      <th></th>\n",
       "      <th>number_of_awards_provided</th>\n",
       "    </tr>\n",
       "  </thead>\n",
       "  <tbody>\n",
       "    <tr>\n",
       "      <th>0</th>\n",
       "      <td>163</td>\n",
       "    </tr>\n",
       "  </tbody>\n",
       "</table>\n",
       "</div>"
      ],
      "text/plain": [
       "   number_of_awards_provided\n",
       "0                        163"
      ]
     },
     "execution_count": 75,
     "metadata": {},
     "output_type": "execute_result"
    }
   ],
   "source": [
    "pysqldf('''\n",
    "    SELECT COUNT(Awards) AS number_of_awards_provided\n",
    "    FROM db\n",
    "    WHERE Awards == 'Yes'\n",
    "''')"
   ]
  },
  {
   "cell_type": "code",
   "execution_count": 77,
   "id": "8f1ce704",
   "metadata": {},
   "outputs": [
    {
     "data": {
      "text/html": [
       "<div>\n",
       "<style scoped>\n",
       "    .dataframe tbody tr th:only-of-type {\n",
       "        vertical-align: middle;\n",
       "    }\n",
       "\n",
       "    .dataframe tbody tr th {\n",
       "        vertical-align: top;\n",
       "    }\n",
       "\n",
       "    .dataframe thead th {\n",
       "        text-align: right;\n",
       "    }\n",
       "</style>\n",
       "<table border=\"1\" class=\"dataframe\">\n",
       "  <thead>\n",
       "    <tr style=\"text-align: right;\">\n",
       "      <th></th>\n",
       "      <th>number_of_all_films</th>\n",
       "    </tr>\n",
       "  </thead>\n",
       "  <tbody>\n",
       "    <tr>\n",
       "      <th>0</th>\n",
       "      <td>1496</td>\n",
       "    </tr>\n",
       "  </tbody>\n",
       "</table>\n",
       "</div>"
      ],
      "text/plain": [
       "   number_of_all_films\n",
       "0                 1496"
      ]
     },
     "execution_count": 77,
     "metadata": {},
     "output_type": "execute_result"
    }
   ],
   "source": [
    "pysqldf('''\n",
    "    SELECT COUNT(Awards) AS number_of_all_films\n",
    "    FROM db\n",
    "    WHERE Awards == 'No'\n",
    "''')"
   ]
  },
  {
   "cell_type": "code",
   "execution_count": 79,
   "id": "982a697f",
   "metadata": {},
   "outputs": [
    {
     "name": "stdout",
     "output_type": "stream",
     "text": [
      "Probability of getting a role in film that will get an award:  10.89572192513369 %\n"
     ]
    }
   ],
   "source": [
    "print('Probability of getting a role in film that will get an award: ', 163 / 1496 * 100, '%')"
   ]
  },
  {
   "cell_type": "code",
   "execution_count": 81,
   "id": "bdfae594",
   "metadata": {},
   "outputs": [
    {
     "data": {
      "text/html": [
       "<div>\n",
       "<style scoped>\n",
       "    .dataframe tbody tr th:only-of-type {\n",
       "        vertical-align: middle;\n",
       "    }\n",
       "\n",
       "    .dataframe tbody tr th {\n",
       "        vertical-align: top;\n",
       "    }\n",
       "\n",
       "    .dataframe thead th {\n",
       "        text-align: right;\n",
       "    }\n",
       "</style>\n",
       "<table border=\"1\" class=\"dataframe\">\n",
       "  <thead>\n",
       "    <tr style=\"text-align: right;\">\n",
       "      <th></th>\n",
       "      <th>number_of_actors_with_one_award</th>\n",
       "    </tr>\n",
       "  </thead>\n",
       "  <tbody>\n",
       "    <tr>\n",
       "      <th>0</th>\n",
       "      <td>93</td>\n",
       "    </tr>\n",
       "  </tbody>\n",
       "</table>\n",
       "</div>"
      ],
      "text/plain": [
       "   number_of_actors_with_one_award\n",
       "0                               93"
      ]
     },
     "execution_count": 81,
     "metadata": {},
     "output_type": "execute_result"
    }
   ],
   "source": [
    "pysqldf('''\n",
    "    SELECT COUNT(Actor) AS number_of_actors_with_one_award\n",
    "    FROM ratings_table\n",
    "    WHERE winning_count == 1;\n",
    "''')"
   ]
  },
  {
   "cell_type": "code",
   "execution_count": 82,
   "id": "4ebeba91",
   "metadata": {},
   "outputs": [
    {
     "data": {
      "text/html": [
       "<div>\n",
       "<style scoped>\n",
       "    .dataframe tbody tr th:only-of-type {\n",
       "        vertical-align: middle;\n",
       "    }\n",
       "\n",
       "    .dataframe tbody tr th {\n",
       "        vertical-align: top;\n",
       "    }\n",
       "\n",
       "    .dataframe thead th {\n",
       "        text-align: right;\n",
       "    }\n",
       "</style>\n",
       "<table border=\"1\" class=\"dataframe\">\n",
       "  <thead>\n",
       "    <tr style=\"text-align: right;\">\n",
       "      <th></th>\n",
       "      <th>number_of_actors_with_more_awards</th>\n",
       "    </tr>\n",
       "  </thead>\n",
       "  <tbody>\n",
       "    <tr>\n",
       "      <th>0</th>\n",
       "      <td>48</td>\n",
       "    </tr>\n",
       "  </tbody>\n",
       "</table>\n",
       "</div>"
      ],
      "text/plain": [
       "   number_of_actors_with_more_awards\n",
       "0                                 48"
      ]
     },
     "execution_count": 82,
     "metadata": {},
     "output_type": "execute_result"
    }
   ],
   "source": [
    "pysqldf('''\n",
    "    SELECT COUNT(Actor) AS number_of_actors_with_more_awards\n",
    "    FROM ratings_table\n",
    "    WHERE winning_count != 1;\n",
    "''')"
   ]
  },
  {
   "cell_type": "code",
   "execution_count": 83,
   "id": "0bae400c",
   "metadata": {},
   "outputs": [
    {
     "name": "stdout",
     "output_type": "stream",
     "text": [
      "Probability of getting roles in more than 2 films which will get an award:  5.623598412972227 %\n"
     ]
    }
   ],
   "source": [
    "print('Probability of getting roles in more than 2 films which will get an award: ', (163 / 1496) * (48 / 93) * 100, '%')"
   ]
  },
  {
   "cell_type": "markdown",
   "id": "76a9269c",
   "metadata": {},
   "source": [
    "# 1. Summary and descovered relationships:\n",
    "\n",
    "We explored and try to answer the following questions:\n",
    "\n",
    "1. Well, the first question is about correlation between Awards and Popularity of films. As one can notice, critics and ordinary audience are not always agree about film quality. \n",
    "\n",
    "2. There is my own hypotesis: if actor or actress gets an award, he or she has higher probability to get it again. Of course, for everyone it is interesting: \"if I will be an actor, do I have a chance to get an award?\".\n",
    "\n",
    "### Question no. 1\n",
    "Popularity of films with awards not always higher than the popularity of films without awards.\n",
    "\n",
    "Correlation between critics' opinions and others' priority: -0.03075176388418002, therefore there is no correlation between them.\n",
    "\n",
    "### Question no. 2\n",
    "Probability of getting a role in film that will get an award:  10.89572192513369 %.\n",
    "\n",
    "Probability of getting roles in more than 2 films which will get an award:  5.623598412972227 %.\n",
    "\n",
    "Therefore, we can see, that about 1/10 of all actors won at least one award and an half of them won at least two awards, so chances having more than one award and being 'one film star' are almost the same.\n",
    "\n",
    "# 2. Additional questions:\n",
    "\n",
    "There are many additional problems, that we can explore, using this dataset.\n",
    "\n",
    "### Future questions:\n",
    "\n",
    "1. Explore a dynamic of popularity for each type of films from 1928 to 1992.\n",
    "2. Does the length of the film affect on its award?\n",
    "3. Describe the period for each actor, when he was popular."
   ]
  }
 ],
 "metadata": {
  "kernelspec": {
   "display_name": "Python 3",
   "language": "python",
   "name": "python3"
  },
  "language_info": {
   "codemirror_mode": {
    "name": "ipython",
    "version": 3
   },
   "file_extension": ".py",
   "mimetype": "text/x-python",
   "name": "python",
   "nbconvert_exporter": "python",
   "pygments_lexer": "ipython3",
   "version": "3.8.8"
  }
 },
 "nbformat": 4,
 "nbformat_minor": 5
}
